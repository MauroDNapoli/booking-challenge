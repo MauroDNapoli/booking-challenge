{
 "cells": [
  {
   "cell_type": "markdown",
   "id": "regional-connecticut",
   "metadata": {
    "id": "regional-connecticut"
   },
   "source": [
    "### Booking Challenge"
   ]
  },
  {
   "cell_type": "code",
   "execution_count": 1,
   "id": "copyrighted-franchise",
   "metadata": {
    "id": "copyrighted-franchise"
   },
   "outputs": [],
   "source": [
    "import os\n",
    "import time\n",
    "import numpy as np\n",
    "import pandas as pd\n",
    "import matplotlib.pyplot as plt\n",
    "import torch.nn as nn\n",
    "import torch.optim as optim\n",
    "import torch\n",
    "\n",
    "from typing import List\n",
    "from torch.utils.data import Dataset, DataLoader\n",
    "from torch.nn.utils.rnn import pad_sequence\n",
    "from tqdm.notebook import tqdm\n",
    "from torchsummary import summary\n",
    "from torch.nn.utils.rnn import pad_sequence"
   ]
  },
  {
   "cell_type": "code",
   "execution_count": null,
   "id": "endangered-thriller",
   "metadata": {
    "id": "endangered-thriller"
   },
   "outputs": [],
   "source": [
    "def preprocess_label_df(\n",
    "        df: pd.core.frame.DataFrame) -> pd.core.frame.DataFrame:\n",
    "    '''\n",
    "    adds label to the dataset \n",
    "    removes the last row for every trip\n",
    "    removes sequences shorter than 3\n",
    "    order the df starting from longer sequences\n",
    "    '''\n",
    "    df_chunks = []\n",
    "    df['label'] = df['city_id'].shift(-1)\n",
    "    idx_labels = np.unique(df.index)\n",
    "\n",
    "    for idx in tqdm(idx_labels):\n",
    "        temp_dataset = df.loc[idx].head(-1)\n",
    "        if type(temp_dataset) == pd.DataFrame and len(temp_dataset) >= 3:\n",
    "            df_chunks.append(temp_dataset)\n",
    "\n",
    "    df_chunks = sorted(df_chunks, key=lambda x: len(x), reverse=True)\n",
    "    new_df = pd.concat(df_chunks)\n",
    "\n",
    "    return new_df\n",
    "\n",
    "\n",
    "def front_padding_sequence(tensors: List, num_features: int) -> torch.Tensor:\n",
    "    \"\"\"\n",
    "    Applies front padding to a list of tensors\n",
    "    \"\"\"\n",
    "    sizes = [len(tensor) for tensor in tensors]\n",
    "    max_size = max(sizes)\n",
    "    pad_tensors = []\n",
    "    for q in tensors:\n",
    "        new_tensor = torch.zeros(max_size, num_features)\n",
    "        new_tensor[max_size - len(q):] = q\n",
    "        pad_tensors.append(new_tensor)\n",
    "\n",
    "    return torch.stack(pad_tensors, dim=0).long()\n",
    "\n",
    "\n",
    "def custom_padding(batch):\n",
    "    '''\n",
    "    pad each batch according to the sequence \n",
    "    with the highest length\n",
    "    '''\n",
    "    features = [sample[0] for sample in batch]\n",
    "    features = front_padding_sequence(features, 2)\n",
    "    labels = [sample[1].unsqueeze(dim=1) for sample in batch]\n",
    "    labels = front_padding_sequence(labels, 1)\n",
    "\n",
    "    return features, labels"
   ]
  },
  {
   "cell_type": "code",
   "execution_count": null,
   "id": "stretch-preparation",
   "metadata": {
    "id": "stretch-preparation"
   },
   "outputs": [],
   "source": [
    "df_train = pd.read_csv('/content/sample_data/test_set.csv').set_index('utrip_id')\n",
    "df_train.index = df_train.index.astype(int)\n",
    "df_test = pd.read_csv('/content/sample_data/train_set.csv').set_index('utrip_id')\n",
    "df_test.index = df_test.index.astype(int)"
   ]
  },
  {
   "cell_type": "code",
   "execution_count": null,
   "id": "filled-medication",
   "metadata": {
    "colab": {
     "base_uri": "https://localhost:8080/",
     "height": 66,
     "referenced_widgets": [
      "b9bd31962be54db3a885531c95ac2726",
      "a4a83daa0e9e40bda27234fcf1cb8c2c",
      "5bbbc5fd7d764caaafde87bc39d68ad4",
      "59774b05da9c400a86c40381ae1356cc",
      "488bfbefc6cf4d6db095914ecfe67e5f",
      "47310acc415f458cadf00b3eb680fe84",
      "c21ca9276a9c4e1eb2bc3104bec43cde",
      "83ef1e25c7da4d59b36d84bafa5101be"
     ]
    },
    "id": "filled-medication",
    "outputId": "68df0f48-b7b1-4564-ea14-90bc607fcace"
   },
   "outputs": [
    {
     "data": {
      "application/vnd.jupyter.widget-view+json": {
       "model_id": "b9bd31962be54db3a885531c95ac2726",
       "version_major": 2,
       "version_minor": 0
      },
      "text/plain": [
       "HBox(children=(FloatProgress(value=0.0, max=70661.0), HTML(value='')))"
      ]
     },
     "metadata": {
      "tags": []
     },
     "output_type": "display_data"
    },
    {
     "name": "stdout",
     "output_type": "stream",
     "text": [
      "\n"
     ]
    }
   ],
   "source": [
    "df_train = preprocess_label_df(df_train)"
   ]
  },
  {
   "cell_type": "code",
   "execution_count": null,
   "id": "based-picnic",
   "metadata": {
    "colab": {
     "base_uri": "https://localhost:8080/",
     "height": 66,
     "referenced_widgets": [
      "a7131a3b317f4f02bf2f09adea4701c8",
      "54e48affa5d8451c800c81db6100b314",
      "2ef2907e31ab40dea398efd712f38e9d",
      "0040dbe8945247a783040320ae41823f",
      "d2a2b5fbcdc740bb964261bd6338cda8",
      "bd96ead711fd494991a53ac6da2cc9e0",
      "1d6c253af7d44f129679c910b2b96316",
      "4c9e84092d2c4d4da685cb76fc694925"
     ]
    },
    "id": "based-picnic",
    "outputId": "acae7173-ffd0-4c30-b1df-6356f6208fe5"
   },
   "outputs": [
    {
     "data": {
      "application/vnd.jupyter.widget-view+json": {
       "model_id": "a7131a3b317f4f02bf2f09adea4701c8",
       "version_major": 2,
       "version_minor": 0
      },
      "text/plain": [
       "HBox(children=(FloatProgress(value=0.0, max=217684.0), HTML(value='')))"
      ]
     },
     "metadata": {
      "tags": []
     },
     "output_type": "display_data"
    },
    {
     "name": "stdout",
     "output_type": "stream",
     "text": [
      "\n"
     ]
    }
   ],
   "source": [
    "df_test = preprocess_label_df(df_test)"
   ]
  },
  {
   "cell_type": "markdown",
   "id": "spatial-grenada",
   "metadata": {
    "id": "spatial-grenada"
   },
   "source": [
    "### Change utrip_id label"
   ]
  },
  {
   "cell_type": "code",
   "execution_count": null,
   "id": "polish-repair",
   "metadata": {
    "id": "polish-repair"
   },
   "outputs": [],
   "source": [
    "df_train['label'] = df_train['label'].astype(int)\n",
    "df_test['label'] = df_test['label'].astype(int)"
   ]
  },
  {
   "cell_type": "code",
   "execution_count": null,
   "id": "applied-albany",
   "metadata": {
    "id": "applied-albany"
   },
   "outputs": [],
   "source": [
    "utrip_distinct_train = df_train.index.unique()\n",
    "utrip_train_map = {utrip:i for i, utrip in enumerate(utrip_distinct_train)}\n",
    "df_train = df_train.rename(index=utrip_train_map)\n",
    "\n",
    "utrip_distinct_test = df_test.index.unique()\n",
    "utrip_test_map = {utrip:i for i, utrip in enumerate(utrip_distinct_test)}\n",
    "df_test = df_test.rename(index=utrip_test_map)"
   ]
  },
  {
   "cell_type": "code",
   "execution_count": null,
   "id": "small-logistics",
   "metadata": {
    "colab": {
     "base_uri": "https://localhost:8080/",
     "height": 235
    },
    "id": "small-logistics",
    "outputId": "ee208d44-fbb0-4142-af41-e090ad955807"
   },
   "outputs": [
    {
     "data": {
      "text/html": [
       "<div>\n",
       "<style scoped>\n",
       "    .dataframe tbody tr th:only-of-type {\n",
       "        vertical-align: middle;\n",
       "    }\n",
       "\n",
       "    .dataframe tbody tr th {\n",
       "        vertical-align: top;\n",
       "    }\n",
       "\n",
       "    .dataframe thead th {\n",
       "        text-align: right;\n",
       "    }\n",
       "</style>\n",
       "<table border=\"1\" class=\"dataframe\">\n",
       "  <thead>\n",
       "    <tr style=\"text-align: right;\">\n",
       "      <th></th>\n",
       "      <th>user_id</th>\n",
       "      <th>checkin</th>\n",
       "      <th>checkout</th>\n",
       "      <th>device_class</th>\n",
       "      <th>affiliate_id</th>\n",
       "      <th>booker_country</th>\n",
       "      <th>city_id</th>\n",
       "      <th>hotel_country</th>\n",
       "      <th>label</th>\n",
       "    </tr>\n",
       "    <tr>\n",
       "      <th>utrip_id</th>\n",
       "      <th></th>\n",
       "      <th></th>\n",
       "      <th></th>\n",
       "      <th></th>\n",
       "      <th></th>\n",
       "      <th></th>\n",
       "      <th></th>\n",
       "      <th></th>\n",
       "      <th></th>\n",
       "    </tr>\n",
       "  </thead>\n",
       "  <tbody>\n",
       "    <tr>\n",
       "      <th>0</th>\n",
       "      <td>4152137</td>\n",
       "      <td>2016-08-12</td>\n",
       "      <td>2016-08-13</td>\n",
       "      <td>mobile</td>\n",
       "      <td>359</td>\n",
       "      <td>The Devilfire Empire</td>\n",
       "      <td>62394</td>\n",
       "      <td>Novistrana</td>\n",
       "      <td>27189</td>\n",
       "    </tr>\n",
       "    <tr>\n",
       "      <th>0</th>\n",
       "      <td>4152137</td>\n",
       "      <td>2016-08-13</td>\n",
       "      <td>2016-08-14</td>\n",
       "      <td>mobile</td>\n",
       "      <td>359</td>\n",
       "      <td>The Devilfire Empire</td>\n",
       "      <td>27189</td>\n",
       "      <td>Novistrana</td>\n",
       "      <td>59713</td>\n",
       "    </tr>\n",
       "    <tr>\n",
       "      <th>0</th>\n",
       "      <td>4152137</td>\n",
       "      <td>2016-08-14</td>\n",
       "      <td>2016-08-15</td>\n",
       "      <td>mobile</td>\n",
       "      <td>359</td>\n",
       "      <td>The Devilfire Empire</td>\n",
       "      <td>59713</td>\n",
       "      <td>Novistrana</td>\n",
       "      <td>39027</td>\n",
       "    </tr>\n",
       "    <tr>\n",
       "      <th>0</th>\n",
       "      <td>4152137</td>\n",
       "      <td>2016-08-15</td>\n",
       "      <td>2016-08-16</td>\n",
       "      <td>mobile</td>\n",
       "      <td>359</td>\n",
       "      <td>The Devilfire Empire</td>\n",
       "      <td>39027</td>\n",
       "      <td>San Sombrèro</td>\n",
       "      <td>45361</td>\n",
       "    </tr>\n",
       "    <tr>\n",
       "      <th>0</th>\n",
       "      <td>4152137</td>\n",
       "      <td>2016-08-16</td>\n",
       "      <td>2016-08-17</td>\n",
       "      <td>mobile</td>\n",
       "      <td>359</td>\n",
       "      <td>The Devilfire Empire</td>\n",
       "      <td>45361</td>\n",
       "      <td>San Sombrèro</td>\n",
       "      <td>47439</td>\n",
       "    </tr>\n",
       "  </tbody>\n",
       "</table>\n",
       "</div>"
      ],
      "text/plain": [
       "          user_id     checkin    checkout  ... city_id  hotel_country  label\n",
       "utrip_id                                   ...                              \n",
       "0         4152137  2016-08-12  2016-08-13  ...   62394     Novistrana  27189\n",
       "0         4152137  2016-08-13  2016-08-14  ...   27189     Novistrana  59713\n",
       "0         4152137  2016-08-14  2016-08-15  ...   59713     Novistrana  39027\n",
       "0         4152137  2016-08-15  2016-08-16  ...   39027   San Sombrèro  45361\n",
       "0         4152137  2016-08-16  2016-08-17  ...   45361   San Sombrèro  47439\n",
       "\n",
       "[5 rows x 9 columns]"
      ]
     },
     "execution_count": 10,
     "metadata": {
      "tags": []
     },
     "output_type": "execute_result"
    }
   ],
   "source": [
    "df_train.head()"
   ]
  },
  {
   "cell_type": "markdown",
   "id": "recognized-bristol",
   "metadata": {
    "id": "recognized-bristol"
   },
   "source": [
    "#### Create map for data"
   ]
  },
  {
   "cell_type": "code",
   "execution_count": null,
   "id": "AnvVpFJjBUth",
   "metadata": {
    "colab": {
     "base_uri": "https://localhost:8080/"
    },
    "id": "AnvVpFJjBUth",
    "outputId": "f3643d0d-c7f3-4021-de8f-ab53a8b10248"
   },
   "outputs": [
    {
     "data": {
      "text/plain": [
       "user_id           0\n",
       "checkin           0\n",
       "checkout          0\n",
       "device_class      0\n",
       "affiliate_id      0\n",
       "booker_country    0\n",
       "city_id           0\n",
       "hotel_country     1\n",
       "label             0\n",
       "dtype: int64"
      ]
     },
     "execution_count": 12,
     "metadata": {
      "tags": []
     },
     "output_type": "execute_result"
    }
   ],
   "source": [
    "df_train.isna().sum()"
   ]
  },
  {
   "cell_type": "code",
   "execution_count": null,
   "id": "green-google",
   "metadata": {
    "id": "green-google"
   },
   "outputs": [],
   "source": [
    "distinct_affiliate_id = np.unique(df_train.affiliate_id)\n",
    "affiliate_id_map = {aff_id:i+1 for i, aff_id in enumerate(distinct_affiliate_id)}\n",
    "\n",
    "distinct_checkin_id = np.unique(df_train.checkin)\n",
    "checkin_map = {checkin:i+1 for i, checkin in enumerate(distinct_checkin_id)}\n",
    "\n",
    "distinct_device_class = np.unique(df_train.device_class)\n",
    "device_map = {device:i+1 for i, device in enumerate(distinct_device_class)}\n",
    "\n",
    "distinct_city_id = np.unique([df_train.city_id,df_train.label])\n",
    "city_id_map = {city_id:i+1 for i, city_id in enumerate(distinct_city_id)}\n",
    "\n",
    "distinct_booker_country = np.unique(df_train.booker_country)\n",
    "booker_country_map = {booker_country:i+1 for i, booker_country in enumerate(distinct_booker_country)}\n",
    "\n",
    "distinct_hotel_country = np.unique(df_train.hotel_country.astype(str))\n",
    "hotel_country_map = {hotel_country:i+1 for i, hotel_country in enumerate(distinct_hotel_country)}"
   ]
  },
  {
   "cell_type": "code",
   "execution_count": null,
   "id": "substantial-arkansas",
   "metadata": {
    "id": "substantial-arkansas"
   },
   "outputs": [],
   "source": [
    "df_train['checkin'] = df_train['checkin'].map(lambda x: checkin_map.get(x))\n",
    "df_train['affiliate_id'] = df_train['affiliate_id'].map(lambda x: affiliate_id_map.get(x))\n",
    "df_train['city_id'] = df_train['city_id'].map(lambda x: city_id_map.get(x))\n",
    "df_train['label'] = df_train['label'].map(lambda x: city_id_map.get(x))\n",
    "df_train['booker_country'] = df_train['booker_country'].map(lambda x: booker_country_map.get(x))"
   ]
  },
  {
   "cell_type": "code",
   "execution_count": null,
   "id": "constant-inspiration",
   "metadata": {
    "id": "constant-inspiration"
   },
   "outputs": [],
   "source": [
    "df_test['checkin'] = df_test['checkin'].map(lambda x: checkin_map.get(x, 0))\n",
    "df_test['affiliate_id'] = df_test['affiliate_id'].map(lambda x: affiliate_id_map.get(x, 0))\n",
    "df_test['city_id'] = df_test['city_id'].map(lambda x: city_id_map.get(x, 0))\n",
    "df_test['label'] = df_test['label'].map(lambda x: city_id_map.get(x, 0))\n",
    "df_test['booker_country'] = df_test['booker_country'].map(lambda x: booker_country_map.get(x, 0))"
   ]
  },
  {
   "cell_type": "markdown",
   "id": "forty-volume",
   "metadata": {
    "id": "forty-volume"
   },
   "source": [
    "#### Create a dataset"
   ]
  },
  {
   "cell_type": "code",
   "execution_count": null,
   "id": "rubber-wesley",
   "metadata": {
    "id": "rubber-wesley"
   },
   "outputs": [],
   "source": [
    "class BookingDataset(Dataset):\n",
    "    def __init__(self, df):\n",
    "        self.df = df\n",
    "    \n",
    "    def __len__(self):\n",
    "        return max(self.df.index)\n",
    "    \n",
    "    def __getitem__(self, idx):\n",
    "        row = self.df.loc[idx]\n",
    "        city_id = row['city_id'].values\n",
    "        label_id = row['label'].values\n",
    "        affiliate_id = row['affiliate_id']\n",
    "        \n",
    "        city_id = torch.tensor(row['city_id'].values).view(-1, 1)\n",
    "        affiliate_id = torch.tensor(row['affiliate_id'].values).view(-1, 1)\n",
    "        features = torch.cat((city_id, affiliate_id), 1)\n",
    "        features = features.view(-1, 2)\n",
    "        \n",
    "        label_id = torch.tensor(row['label'].values).float()\n",
    "        \n",
    "        return features, label_id"
   ]
  },
  {
   "cell_type": "code",
   "execution_count": null,
   "id": "resistant-yukon",
   "metadata": {
    "id": "resistant-yukon"
   },
   "outputs": [],
   "source": [
    "train_ds = BookingDataset(df_train)\n",
    "train_dl = DataLoader(train_ds, batch_size = 4, shuffle = False, collate_fn=custom_padding)"
   ]
  },
  {
   "cell_type": "markdown",
   "id": "ordinary-adapter",
   "metadata": {
    "id": "ordinary-adapter"
   },
   "source": [
    "#### Vanilla RNN"
   ]
  },
  {
   "cell_type": "code",
   "execution_count": null,
   "id": "adverse-speed",
   "metadata": {
    "id": "adverse-speed"
   },
   "outputs": [],
   "source": [
    "# Vanilla RNN using nn.RNN\n",
    "class Vanilla_RNN(nn.Module):\n",
    "    def __init__(self, emb_size, hidden_size, output_size):\n",
    "        super(Vanilla_RNN, self).__init__()\n",
    "        \n",
    "        self.city_emb = nn.Embedding(len(city_id_map)+1, emb_size, padding_idx=0)\n",
    "        self.affiliate_emb = nn.Embedding(len(affiliate_id_map)+1, emb_size, padding_idx=0)\n",
    "        \n",
    "        self.rnn = nn.RNN(emb_size*2, hidden_size)\n",
    "        \n",
    "        # here is our g function from the lecture slides\n",
    "        # linear layer turning the i-th hidden state into the i-th output\n",
    "        self.g = nn.Linear(hidden_size, output_size)\n",
    "\n",
    "    def forward(self, x):\n",
    "        city_emb = self.city_emb(x[:,:,0])\n",
    "        affiliate_emb = self.affiliate_emb(x[:,:,1])\n",
    "        x = torch.cat((city_emb, affiliate_emb), dim=2)\n",
    "        out, hidden = self.rnn(x)\n",
    "        out = self.g(out)\n",
    "\n",
    "        return out, hidden"
   ]
  },
  {
   "cell_type": "code",
   "execution_count": null,
   "id": "stupid-title",
   "metadata": {
    "id": "stupid-title"
   },
   "outputs": [],
   "source": [
    "v_rnn = Vanilla_RNN(24, 100, 50)"
   ]
  },
  {
   "cell_type": "markdown",
   "id": "7e72a0df",
   "metadata": {
    "id": "7e72a0df"
   },
   "source": [
    "#### LSTM"
   ]
  },
  {
   "cell_type": "code",
   "execution_count": null,
   "id": "5621ea4d",
   "metadata": {
    "id": "5621ea4d"
   },
   "outputs": [],
   "source": [
    "class LSTM(nn.Module):\n",
    "    def __init__(self, emb_size, hidden_size):\n",
    "        super(LSTM, self).__init__()\n",
    "        self.hidden_size = hidden_size\n",
    "        self.city_emb = nn.Embedding(len(city_id_map)+1, emb_size, padding_idx=0)\n",
    "        self.affiliate_emb = nn.Embedding(len(affiliate_id_map)+1, emb_size, padding_idx=0)\n",
    "        self.lstm = nn.LSTM(emb_size*2, hidden_size, batch_first=True)\n",
    "        self.g = nn.Linear(hidden_size, len(city_id_map)+1)\n",
    "        \n",
    "    def forward(self, x):\n",
    "        city_emb = self.city_emb(x[:,:,0])\n",
    "        affiliate_emb = self.affiliate_emb(x[:,:,1])\n",
    "        x = torch.cat((city_emb, affiliate_emb), dim=2)\n",
    "        out, hidden = self.lstm(x)\n",
    "        out = self.g(out) \n",
    "        return out, hidden"
   ]
  },
  {
   "cell_type": "code",
   "execution_count": null,
   "id": "d2342e15",
   "metadata": {
    "id": "d2342e15"
   },
   "outputs": [],
   "source": [
    "lstm = LSTM(50, 100)"
   ]
  },
  {
   "cell_type": "code",
   "execution_count": null,
   "id": "874724a5",
   "metadata": {
    "id": "874724a5"
   },
   "outputs": [],
   "source": [
    "loss_fun = nn.CrossEntropyLoss(ignore_index=0)\n",
    "optimizer = optim.Adam(lstm.parameters(), lr = 0.01)"
   ]
  },
  {
   "cell_type": "code",
   "execution_count": null,
   "id": "1bf13305",
   "metadata": {
    "id": "1bf13305"
   },
   "outputs": [],
   "source": [
    "def one_pass(model, dataloader, optimizer, lossFun, backwards=True, print_loss=False):\n",
    "\n",
    "    if backwards == True:\n",
    "        model.train()\n",
    "    else:\n",
    "        model.eval()\n",
    "    \n",
    "    total_loss = 0.0\n",
    "    for x, y in tqdm(dataloader):\n",
    "        \n",
    "        output, hidden = model(x)\n",
    "        output = output.transpose(1,2)\n",
    "        loss = lossFun(output, y.squeeze(2))\n",
    "        total_loss += loss.item()\n",
    "        \n",
    "        if backwards == True:\n",
    "            optimizer.zero_grad()\n",
    "            loss.backward()\n",
    "            optimizer.step()\n",
    "    avg_loss = total_loss / len(dataloader)\n",
    "    \n",
    "    if print_loss == True:\n",
    "        print(avg_loss)\n",
    "    \n",
    "    return avg_loss"
   ]
  },
  {
   "cell_type": "code",
   "execution_count": null,
   "id": "e325161b",
   "metadata": {
    "colab": {
     "base_uri": "https://localhost:8080/",
     "height": 83,
     "referenced_widgets": [
      "0133b725ba16448b8a8264397f2db616",
      "20d05bfd7bc84d0b95503eb714c749b1",
      "90261d2e637c4654945164d5e4021781",
      "32bc79f6cf584221a012edd89168b6e7",
      "253070ebf7654006a23f3c346889abe8",
      "36d6bbc404f24c309f1f36c54edac6e5",
      "43d3ea50260f41c9aceba96a1a07a2a5",
      "ae6c8a176f0a4e718c8269dcd7018079"
     ]
    },
    "id": "e325161b",
    "outputId": "6a9afd0f-e952-44b7-da36-a2f9ab60f70b"
   },
   "outputs": [
    {
     "data": {
      "application/vnd.jupyter.widget-view+json": {
       "model_id": "0133b725ba16448b8a8264397f2db616",
       "version_major": 2,
       "version_minor": 0
      },
      "text/plain": [
       "HBox(children=(FloatProgress(value=0.0, max=17665.0), HTML(value='')))"
      ]
     },
     "metadata": {
      "tags": []
     },
     "output_type": "display_data"
    },
    {
     "name": "stdout",
     "output_type": "stream",
     "text": [
      "\n"
     ]
    },
    {
     "data": {
      "text/plain": [
       "5.265826428432557"
      ]
     },
     "execution_count": 22,
     "metadata": {
      "tags": []
     },
     "output_type": "execute_result"
    }
   ],
   "source": [
    "one_pass(lstm, train_dl, optimizer, loss_fun)"
   ]
  },
  {
   "cell_type": "code",
   "execution_count": null,
   "id": "388eba66",
   "metadata": {
    "id": "388eba66"
   },
   "outputs": [],
   "source": [
    "def one_pass_acc4(model, dataloader, num_points, k=4):\n",
    "    model.eval()\n",
    "    total_correct = 0\n",
    "    for x, y in tqdm(dataloader):\n",
    "        output, hidden = model(x)\n",
    "        # print(output.shape)\n",
    "        # output = output[:,:,2:]\n",
    "        # print(output.shape)\n",
    "        result = torch.topk(output, 4, dim=2)\n",
    "        idx = result.indices\n",
    "        matches = (torch.eq(idx, y).sum(2)>0).sum(1)>0\n",
    "        correct = matches.sum().item()\n",
    "        # print(\"output shape \", output.shape, \"y shape\", y.shape)\n",
    "        # print(\"Printing output\", output)\n",
    "        # print(\"Printing y shape\", y.shape)\n",
    "        # print(f\"matches = \", matches)\n",
    "        # print(f\"Matches shape = {matches.shape}\")\n",
    "        total_correct += correct\n",
    "        # print(\"Correct = \", correct)\n",
    "        # print(len(y))\n",
    "        # break\n",
    "    print(total_correct/num_points)"
   ]
  },
  {
   "cell_type": "code",
   "execution_count": null,
   "id": "ab879f23",
   "metadata": {
    "colab": {
     "base_uri": "https://localhost:8080/",
     "height": 83,
     "referenced_widgets": [
      "7332e7d3d0464756a8090236cff3eaa0",
      "5f7807a08a544a3baaa44e0a2e09656d",
      "061f569eb412404d82d29a5d4cf97cd6",
      "8ba4d2a3f7dc40d693a81e295d000182",
      "370c05a0f4f3452f8efac3b9d77d4242",
      "4f43d5703ed340529f665e40db2540fb",
      "eddae955de054074afee6ed026efe6d6",
      "e7a8ee0f1cd2427aae6e45ecd144f369"
     ]
    },
    "id": "ab879f23",
    "outputId": "06c5aeee-cd44-4970-b311-7bb165e978a7"
   },
   "outputs": [
    {
     "data": {
      "application/vnd.jupyter.widget-view+json": {
       "model_id": "7332e7d3d0464756a8090236cff3eaa0",
       "version_major": 2,
       "version_minor": 0
      },
      "text/plain": [
       "HBox(children=(FloatProgress(value=0.0, max=17665.0), HTML(value='')))"
      ]
     },
     "metadata": {
      "tags": []
     },
     "output_type": "display_data"
    },
    {
     "name": "stdout",
     "output_type": "stream",
     "text": [
      "\n",
      "0.9957118596093971\n"
     ]
    }
   ],
   "source": [
    "one_pass_acc4(lstm, train_dl, len(train_ds))"
   ]
  },
  {
   "cell_type": "code",
   "execution_count": null,
   "id": "IGBn7b0SN35d",
   "metadata": {
    "colab": {
     "base_uri": "https://localhost:8080/",
     "height": 83,
     "referenced_widgets": [
      "617a6a94f7934644b2fa8d066fd08d19",
      "f1ec9532783a4688934c8c1edd7cfdb8",
      "3a66e03b70a04df99baec40a500adff0",
      "55729650f4a644fb99890da5138886a3",
      "c3753b7d1a1d4d78a1a37b6df70c2df5",
      "9a6c636fb938467cb30f2528657aeda1",
      "ccc84aa53d7f4b5494fa4b9746343150",
      "20e545571b114062acb1d873004f9b32"
     ]
    },
    "id": "IGBn7b0SN35d",
    "outputId": "2d9e6b00-b505-4144-d351-1058278e21ce"
   },
   "outputs": [
    {
     "data": {
      "application/vnd.jupyter.widget-view+json": {
       "model_id": "617a6a94f7934644b2fa8d066fd08d19",
       "version_major": 2,
       "version_minor": 0
      },
      "text/plain": [
       "HBox(children=(FloatProgress(value=0.0, max=54201.0), HTML(value='')))"
      ]
     },
     "metadata": {
      "tags": []
     },
     "output_type": "display_data"
    },
    {
     "name": "stdout",
     "output_type": "stream",
     "text": [
      "\n",
      "0.0007472221325350664\n"
     ]
    }
   ],
   "source": [
    "test_ds = BookingDataset(df_test)\n",
    "test_dl = DataLoader(test_ds, batch_size = 4, shuffle = False, collate_fn=custom_padding)\n",
    "one_pass_acc4(lstm, test_dl, len(test_ds))"
   ]
  },
  {
   "cell_type": "code",
   "execution_count": null,
   "id": "6cee3292",
   "metadata": {
    "id": "6cee3292"
   },
   "outputs": [],
   "source": [
    "pd.merge()"
   ]
  }
 ],
 "metadata": {
  "colab": {
   "collapsed_sections": [],
   "name": "final_project_vAD.ipynb",
   "provenance": []
  },
  "kernelspec": {
   "display_name": "Python 3 (ipykernel)",
   "language": "python",
   "name": "python3"
  },
  "language_info": {
   "codemirror_mode": {
    "name": "ipython",
    "version": 3
   },
   "file_extension": ".py",
   "mimetype": "text/x-python",
   "name": "python",
   "nbconvert_exporter": "python",
   "pygments_lexer": "ipython3",
   "version": "3.8.5"
  },
  "toc": {
   "base_numbering": 1,
   "nav_menu": {},
   "number_sections": true,
   "sideBar": true,
   "skip_h1_title": false,
   "title_cell": "Table of Contents",
   "title_sidebar": "Contents",
   "toc_cell": false,
   "toc_position": {},
   "toc_section_display": true,
   "toc_window_display": false
  },
  "widgets": {
   "application/vnd.jupyter.widget-state+json": {
    "0040dbe8945247a783040320ae41823f": {
     "model_module": "@jupyter-widgets/controls",
     "model_module_version": "1.5.0",
     "model_name": "HTMLModel",
     "state": {
      "_dom_classes": [],
      "_model_module": "@jupyter-widgets/controls",
      "_model_module_version": "1.5.0",
      "_model_name": "HTMLModel",
      "_view_count": null,
      "_view_module": "@jupyter-widgets/controls",
      "_view_module_version": "1.5.0",
      "_view_name": "HTMLView",
      "description": "",
      "description_tooltip": null,
      "layout": "IPY_MODEL_4c9e84092d2c4d4da685cb76fc694925",
      "placeholder": "​",
      "style": "IPY_MODEL_1d6c253af7d44f129679c910b2b96316",
      "value": " 217684/217684 [08:20&lt;00:00, 435.17it/s]"
     }
    },
    "0133b725ba16448b8a8264397f2db616": {
     "model_module": "@jupyter-widgets/controls",
     "model_module_version": "1.5.0",
     "model_name": "HBoxModel",
     "state": {
      "_dom_classes": [],
      "_model_module": "@jupyter-widgets/controls",
      "_model_module_version": "1.5.0",
      "_model_name": "HBoxModel",
      "_view_count": null,
      "_view_module": "@jupyter-widgets/controls",
      "_view_module_version": "1.5.0",
      "_view_name": "HBoxView",
      "box_style": "",
      "children": [
       "IPY_MODEL_90261d2e637c4654945164d5e4021781",
       "IPY_MODEL_32bc79f6cf584221a012edd89168b6e7"
      ],
      "layout": "IPY_MODEL_20d05bfd7bc84d0b95503eb714c749b1"
     }
    },
    "061f569eb412404d82d29a5d4cf97cd6": {
     "model_module": "@jupyter-widgets/controls",
     "model_module_version": "1.5.0",
     "model_name": "FloatProgressModel",
     "state": {
      "_dom_classes": [],
      "_model_module": "@jupyter-widgets/controls",
      "_model_module_version": "1.5.0",
      "_model_name": "FloatProgressModel",
      "_view_count": null,
      "_view_module": "@jupyter-widgets/controls",
      "_view_module_version": "1.5.0",
      "_view_name": "ProgressView",
      "bar_style": "success",
      "description": "100%",
      "description_tooltip": null,
      "layout": "IPY_MODEL_4f43d5703ed340529f665e40db2540fb",
      "max": 17665,
      "min": 0,
      "orientation": "horizontal",
      "style": "IPY_MODEL_370c05a0f4f3452f8efac3b9d77d4242",
      "value": 17665
     }
    },
    "1d6c253af7d44f129679c910b2b96316": {
     "model_module": "@jupyter-widgets/controls",
     "model_module_version": "1.5.0",
     "model_name": "DescriptionStyleModel",
     "state": {
      "_model_module": "@jupyter-widgets/controls",
      "_model_module_version": "1.5.0",
      "_model_name": "DescriptionStyleModel",
      "_view_count": null,
      "_view_module": "@jupyter-widgets/base",
      "_view_module_version": "1.2.0",
      "_view_name": "StyleView",
      "description_width": ""
     }
    },
    "20d05bfd7bc84d0b95503eb714c749b1": {
     "model_module": "@jupyter-widgets/base",
     "model_module_version": "1.2.0",
     "model_name": "LayoutModel",
     "state": {
      "_model_module": "@jupyter-widgets/base",
      "_model_module_version": "1.2.0",
      "_model_name": "LayoutModel",
      "_view_count": null,
      "_view_module": "@jupyter-widgets/base",
      "_view_module_version": "1.2.0",
      "_view_name": "LayoutView",
      "align_content": null,
      "align_items": null,
      "align_self": null,
      "border": null,
      "bottom": null,
      "display": null,
      "flex": null,
      "flex_flow": null,
      "grid_area": null,
      "grid_auto_columns": null,
      "grid_auto_flow": null,
      "grid_auto_rows": null,
      "grid_column": null,
      "grid_gap": null,
      "grid_row": null,
      "grid_template_areas": null,
      "grid_template_columns": null,
      "grid_template_rows": null,
      "height": null,
      "justify_content": null,
      "justify_items": null,
      "left": null,
      "margin": null,
      "max_height": null,
      "max_width": null,
      "min_height": null,
      "min_width": null,
      "object_fit": null,
      "object_position": null,
      "order": null,
      "overflow": null,
      "overflow_x": null,
      "overflow_y": null,
      "padding": null,
      "right": null,
      "top": null,
      "visibility": null,
      "width": null
     }
    },
    "20e545571b114062acb1d873004f9b32": {
     "model_module": "@jupyter-widgets/base",
     "model_module_version": "1.2.0",
     "model_name": "LayoutModel",
     "state": {
      "_model_module": "@jupyter-widgets/base",
      "_model_module_version": "1.2.0",
      "_model_name": "LayoutModel",
      "_view_count": null,
      "_view_module": "@jupyter-widgets/base",
      "_view_module_version": "1.2.0",
      "_view_name": "LayoutView",
      "align_content": null,
      "align_items": null,
      "align_self": null,
      "border": null,
      "bottom": null,
      "display": null,
      "flex": null,
      "flex_flow": null,
      "grid_area": null,
      "grid_auto_columns": null,
      "grid_auto_flow": null,
      "grid_auto_rows": null,
      "grid_column": null,
      "grid_gap": null,
      "grid_row": null,
      "grid_template_areas": null,
      "grid_template_columns": null,
      "grid_template_rows": null,
      "height": null,
      "justify_content": null,
      "justify_items": null,
      "left": null,
      "margin": null,
      "max_height": null,
      "max_width": null,
      "min_height": null,
      "min_width": null,
      "object_fit": null,
      "object_position": null,
      "order": null,
      "overflow": null,
      "overflow_x": null,
      "overflow_y": null,
      "padding": null,
      "right": null,
      "top": null,
      "visibility": null,
      "width": null
     }
    },
    "253070ebf7654006a23f3c346889abe8": {
     "model_module": "@jupyter-widgets/controls",
     "model_module_version": "1.5.0",
     "model_name": "ProgressStyleModel",
     "state": {
      "_model_module": "@jupyter-widgets/controls",
      "_model_module_version": "1.5.0",
      "_model_name": "ProgressStyleModel",
      "_view_count": null,
      "_view_module": "@jupyter-widgets/base",
      "_view_module_version": "1.2.0",
      "_view_name": "StyleView",
      "bar_color": null,
      "description_width": "initial"
     }
    },
    "2ef2907e31ab40dea398efd712f38e9d": {
     "model_module": "@jupyter-widgets/controls",
     "model_module_version": "1.5.0",
     "model_name": "FloatProgressModel",
     "state": {
      "_dom_classes": [],
      "_model_module": "@jupyter-widgets/controls",
      "_model_module_version": "1.5.0",
      "_model_name": "FloatProgressModel",
      "_view_count": null,
      "_view_module": "@jupyter-widgets/controls",
      "_view_module_version": "1.5.0",
      "_view_name": "ProgressView",
      "bar_style": "success",
      "description": "100%",
      "description_tooltip": null,
      "layout": "IPY_MODEL_bd96ead711fd494991a53ac6da2cc9e0",
      "max": 217684,
      "min": 0,
      "orientation": "horizontal",
      "style": "IPY_MODEL_d2a2b5fbcdc740bb964261bd6338cda8",
      "value": 217684
     }
    },
    "32bc79f6cf584221a012edd89168b6e7": {
     "model_module": "@jupyter-widgets/controls",
     "model_module_version": "1.5.0",
     "model_name": "HTMLModel",
     "state": {
      "_dom_classes": [],
      "_model_module": "@jupyter-widgets/controls",
      "_model_module_version": "1.5.0",
      "_model_name": "HTMLModel",
      "_view_count": null,
      "_view_module": "@jupyter-widgets/controls",
      "_view_module_version": "1.5.0",
      "_view_name": "HTMLView",
      "description": "",
      "description_tooltip": null,
      "layout": "IPY_MODEL_ae6c8a176f0a4e718c8269dcd7018079",
      "placeholder": "​",
      "style": "IPY_MODEL_43d3ea50260f41c9aceba96a1a07a2a5",
      "value": " 17665/17665 [24:12&lt;00:00, 12.16it/s]"
     }
    },
    "36d6bbc404f24c309f1f36c54edac6e5": {
     "model_module": "@jupyter-widgets/base",
     "model_module_version": "1.2.0",
     "model_name": "LayoutModel",
     "state": {
      "_model_module": "@jupyter-widgets/base",
      "_model_module_version": "1.2.0",
      "_model_name": "LayoutModel",
      "_view_count": null,
      "_view_module": "@jupyter-widgets/base",
      "_view_module_version": "1.2.0",
      "_view_name": "LayoutView",
      "align_content": null,
      "align_items": null,
      "align_self": null,
      "border": null,
      "bottom": null,
      "display": null,
      "flex": null,
      "flex_flow": null,
      "grid_area": null,
      "grid_auto_columns": null,
      "grid_auto_flow": null,
      "grid_auto_rows": null,
      "grid_column": null,
      "grid_gap": null,
      "grid_row": null,
      "grid_template_areas": null,
      "grid_template_columns": null,
      "grid_template_rows": null,
      "height": null,
      "justify_content": null,
      "justify_items": null,
      "left": null,
      "margin": null,
      "max_height": null,
      "max_width": null,
      "min_height": null,
      "min_width": null,
      "object_fit": null,
      "object_position": null,
      "order": null,
      "overflow": null,
      "overflow_x": null,
      "overflow_y": null,
      "padding": null,
      "right": null,
      "top": null,
      "visibility": null,
      "width": null
     }
    },
    "370c05a0f4f3452f8efac3b9d77d4242": {
     "model_module": "@jupyter-widgets/controls",
     "model_module_version": "1.5.0",
     "model_name": "ProgressStyleModel",
     "state": {
      "_model_module": "@jupyter-widgets/controls",
      "_model_module_version": "1.5.0",
      "_model_name": "ProgressStyleModel",
      "_view_count": null,
      "_view_module": "@jupyter-widgets/base",
      "_view_module_version": "1.2.0",
      "_view_name": "StyleView",
      "bar_color": null,
      "description_width": "initial"
     }
    },
    "3a66e03b70a04df99baec40a500adff0": {
     "model_module": "@jupyter-widgets/controls",
     "model_module_version": "1.5.0",
     "model_name": "FloatProgressModel",
     "state": {
      "_dom_classes": [],
      "_model_module": "@jupyter-widgets/controls",
      "_model_module_version": "1.5.0",
      "_model_name": "FloatProgressModel",
      "_view_count": null,
      "_view_module": "@jupyter-widgets/controls",
      "_view_module_version": "1.5.0",
      "_view_name": "ProgressView",
      "bar_style": "success",
      "description": "100%",
      "description_tooltip": null,
      "layout": "IPY_MODEL_9a6c636fb938467cb30f2528657aeda1",
      "max": 54201,
      "min": 0,
      "orientation": "horizontal",
      "style": "IPY_MODEL_c3753b7d1a1d4d78a1a37b6df70c2df5",
      "value": 54201
     }
    },
    "43d3ea50260f41c9aceba96a1a07a2a5": {
     "model_module": "@jupyter-widgets/controls",
     "model_module_version": "1.5.0",
     "model_name": "DescriptionStyleModel",
     "state": {
      "_model_module": "@jupyter-widgets/controls",
      "_model_module_version": "1.5.0",
      "_model_name": "DescriptionStyleModel",
      "_view_count": null,
      "_view_module": "@jupyter-widgets/base",
      "_view_module_version": "1.2.0",
      "_view_name": "StyleView",
      "description_width": ""
     }
    },
    "47310acc415f458cadf00b3eb680fe84": {
     "model_module": "@jupyter-widgets/base",
     "model_module_version": "1.2.0",
     "model_name": "LayoutModel",
     "state": {
      "_model_module": "@jupyter-widgets/base",
      "_model_module_version": "1.2.0",
      "_model_name": "LayoutModel",
      "_view_count": null,
      "_view_module": "@jupyter-widgets/base",
      "_view_module_version": "1.2.0",
      "_view_name": "LayoutView",
      "align_content": null,
      "align_items": null,
      "align_self": null,
      "border": null,
      "bottom": null,
      "display": null,
      "flex": null,
      "flex_flow": null,
      "grid_area": null,
      "grid_auto_columns": null,
      "grid_auto_flow": null,
      "grid_auto_rows": null,
      "grid_column": null,
      "grid_gap": null,
      "grid_row": null,
      "grid_template_areas": null,
      "grid_template_columns": null,
      "grid_template_rows": null,
      "height": null,
      "justify_content": null,
      "justify_items": null,
      "left": null,
      "margin": null,
      "max_height": null,
      "max_width": null,
      "min_height": null,
      "min_width": null,
      "object_fit": null,
      "object_position": null,
      "order": null,
      "overflow": null,
      "overflow_x": null,
      "overflow_y": null,
      "padding": null,
      "right": null,
      "top": null,
      "visibility": null,
      "width": null
     }
    },
    "488bfbefc6cf4d6db095914ecfe67e5f": {
     "model_module": "@jupyter-widgets/controls",
     "model_module_version": "1.5.0",
     "model_name": "ProgressStyleModel",
     "state": {
      "_model_module": "@jupyter-widgets/controls",
      "_model_module_version": "1.5.0",
      "_model_name": "ProgressStyleModel",
      "_view_count": null,
      "_view_module": "@jupyter-widgets/base",
      "_view_module_version": "1.2.0",
      "_view_name": "StyleView",
      "bar_color": null,
      "description_width": "initial"
     }
    },
    "4c9e84092d2c4d4da685cb76fc694925": {
     "model_module": "@jupyter-widgets/base",
     "model_module_version": "1.2.0",
     "model_name": "LayoutModel",
     "state": {
      "_model_module": "@jupyter-widgets/base",
      "_model_module_version": "1.2.0",
      "_model_name": "LayoutModel",
      "_view_count": null,
      "_view_module": "@jupyter-widgets/base",
      "_view_module_version": "1.2.0",
      "_view_name": "LayoutView",
      "align_content": null,
      "align_items": null,
      "align_self": null,
      "border": null,
      "bottom": null,
      "display": null,
      "flex": null,
      "flex_flow": null,
      "grid_area": null,
      "grid_auto_columns": null,
      "grid_auto_flow": null,
      "grid_auto_rows": null,
      "grid_column": null,
      "grid_gap": null,
      "grid_row": null,
      "grid_template_areas": null,
      "grid_template_columns": null,
      "grid_template_rows": null,
      "height": null,
      "justify_content": null,
      "justify_items": null,
      "left": null,
      "margin": null,
      "max_height": null,
      "max_width": null,
      "min_height": null,
      "min_width": null,
      "object_fit": null,
      "object_position": null,
      "order": null,
      "overflow": null,
      "overflow_x": null,
      "overflow_y": null,
      "padding": null,
      "right": null,
      "top": null,
      "visibility": null,
      "width": null
     }
    },
    "4f43d5703ed340529f665e40db2540fb": {
     "model_module": "@jupyter-widgets/base",
     "model_module_version": "1.2.0",
     "model_name": "LayoutModel",
     "state": {
      "_model_module": "@jupyter-widgets/base",
      "_model_module_version": "1.2.0",
      "_model_name": "LayoutModel",
      "_view_count": null,
      "_view_module": "@jupyter-widgets/base",
      "_view_module_version": "1.2.0",
      "_view_name": "LayoutView",
      "align_content": null,
      "align_items": null,
      "align_self": null,
      "border": null,
      "bottom": null,
      "display": null,
      "flex": null,
      "flex_flow": null,
      "grid_area": null,
      "grid_auto_columns": null,
      "grid_auto_flow": null,
      "grid_auto_rows": null,
      "grid_column": null,
      "grid_gap": null,
      "grid_row": null,
      "grid_template_areas": null,
      "grid_template_columns": null,
      "grid_template_rows": null,
      "height": null,
      "justify_content": null,
      "justify_items": null,
      "left": null,
      "margin": null,
      "max_height": null,
      "max_width": null,
      "min_height": null,
      "min_width": null,
      "object_fit": null,
      "object_position": null,
      "order": null,
      "overflow": null,
      "overflow_x": null,
      "overflow_y": null,
      "padding": null,
      "right": null,
      "top": null,
      "visibility": null,
      "width": null
     }
    },
    "54e48affa5d8451c800c81db6100b314": {
     "model_module": "@jupyter-widgets/base",
     "model_module_version": "1.2.0",
     "model_name": "LayoutModel",
     "state": {
      "_model_module": "@jupyter-widgets/base",
      "_model_module_version": "1.2.0",
      "_model_name": "LayoutModel",
      "_view_count": null,
      "_view_module": "@jupyter-widgets/base",
      "_view_module_version": "1.2.0",
      "_view_name": "LayoutView",
      "align_content": null,
      "align_items": null,
      "align_self": null,
      "border": null,
      "bottom": null,
      "display": null,
      "flex": null,
      "flex_flow": null,
      "grid_area": null,
      "grid_auto_columns": null,
      "grid_auto_flow": null,
      "grid_auto_rows": null,
      "grid_column": null,
      "grid_gap": null,
      "grid_row": null,
      "grid_template_areas": null,
      "grid_template_columns": null,
      "grid_template_rows": null,
      "height": null,
      "justify_content": null,
      "justify_items": null,
      "left": null,
      "margin": null,
      "max_height": null,
      "max_width": null,
      "min_height": null,
      "min_width": null,
      "object_fit": null,
      "object_position": null,
      "order": null,
      "overflow": null,
      "overflow_x": null,
      "overflow_y": null,
      "padding": null,
      "right": null,
      "top": null,
      "visibility": null,
      "width": null
     }
    },
    "55729650f4a644fb99890da5138886a3": {
     "model_module": "@jupyter-widgets/controls",
     "model_module_version": "1.5.0",
     "model_name": "HTMLModel",
     "state": {
      "_dom_classes": [],
      "_model_module": "@jupyter-widgets/controls",
      "_model_module_version": "1.5.0",
      "_model_name": "HTMLModel",
      "_view_count": null,
      "_view_module": "@jupyter-widgets/controls",
      "_view_module_version": "1.5.0",
      "_view_name": "HTMLView",
      "description": "",
      "description_tooltip": null,
      "layout": "IPY_MODEL_20e545571b114062acb1d873004f9b32",
      "placeholder": "​",
      "style": "IPY_MODEL_ccc84aa53d7f4b5494fa4b9746343150",
      "value": " 54201/54201 [21:30&lt;00:00, 42.01it/s]"
     }
    },
    "59774b05da9c400a86c40381ae1356cc": {
     "model_module": "@jupyter-widgets/controls",
     "model_module_version": "1.5.0",
     "model_name": "HTMLModel",
     "state": {
      "_dom_classes": [],
      "_model_module": "@jupyter-widgets/controls",
      "_model_module_version": "1.5.0",
      "_model_name": "HTMLModel",
      "_view_count": null,
      "_view_module": "@jupyter-widgets/controls",
      "_view_module_version": "1.5.0",
      "_view_name": "HTMLView",
      "description": "",
      "description_tooltip": null,
      "layout": "IPY_MODEL_83ef1e25c7da4d59b36d84bafa5101be",
      "placeholder": "​",
      "style": "IPY_MODEL_c21ca9276a9c4e1eb2bc3104bec43cde",
      "value": " 70661/70661 [01:21&lt;00:00, 863.95it/s]"
     }
    },
    "5bbbc5fd7d764caaafde87bc39d68ad4": {
     "model_module": "@jupyter-widgets/controls",
     "model_module_version": "1.5.0",
     "model_name": "FloatProgressModel",
     "state": {
      "_dom_classes": [],
      "_model_module": "@jupyter-widgets/controls",
      "_model_module_version": "1.5.0",
      "_model_name": "FloatProgressModel",
      "_view_count": null,
      "_view_module": "@jupyter-widgets/controls",
      "_view_module_version": "1.5.0",
      "_view_name": "ProgressView",
      "bar_style": "success",
      "description": "100%",
      "description_tooltip": null,
      "layout": "IPY_MODEL_47310acc415f458cadf00b3eb680fe84",
      "max": 70661,
      "min": 0,
      "orientation": "horizontal",
      "style": "IPY_MODEL_488bfbefc6cf4d6db095914ecfe67e5f",
      "value": 70661
     }
    },
    "5f7807a08a544a3baaa44e0a2e09656d": {
     "model_module": "@jupyter-widgets/base",
     "model_module_version": "1.2.0",
     "model_name": "LayoutModel",
     "state": {
      "_model_module": "@jupyter-widgets/base",
      "_model_module_version": "1.2.0",
      "_model_name": "LayoutModel",
      "_view_count": null,
      "_view_module": "@jupyter-widgets/base",
      "_view_module_version": "1.2.0",
      "_view_name": "LayoutView",
      "align_content": null,
      "align_items": null,
      "align_self": null,
      "border": null,
      "bottom": null,
      "display": null,
      "flex": null,
      "flex_flow": null,
      "grid_area": null,
      "grid_auto_columns": null,
      "grid_auto_flow": null,
      "grid_auto_rows": null,
      "grid_column": null,
      "grid_gap": null,
      "grid_row": null,
      "grid_template_areas": null,
      "grid_template_columns": null,
      "grid_template_rows": null,
      "height": null,
      "justify_content": null,
      "justify_items": null,
      "left": null,
      "margin": null,
      "max_height": null,
      "max_width": null,
      "min_height": null,
      "min_width": null,
      "object_fit": null,
      "object_position": null,
      "order": null,
      "overflow": null,
      "overflow_x": null,
      "overflow_y": null,
      "padding": null,
      "right": null,
      "top": null,
      "visibility": null,
      "width": null
     }
    },
    "617a6a94f7934644b2fa8d066fd08d19": {
     "model_module": "@jupyter-widgets/controls",
     "model_module_version": "1.5.0",
     "model_name": "HBoxModel",
     "state": {
      "_dom_classes": [],
      "_model_module": "@jupyter-widgets/controls",
      "_model_module_version": "1.5.0",
      "_model_name": "HBoxModel",
      "_view_count": null,
      "_view_module": "@jupyter-widgets/controls",
      "_view_module_version": "1.5.0",
      "_view_name": "HBoxView",
      "box_style": "",
      "children": [
       "IPY_MODEL_3a66e03b70a04df99baec40a500adff0",
       "IPY_MODEL_55729650f4a644fb99890da5138886a3"
      ],
      "layout": "IPY_MODEL_f1ec9532783a4688934c8c1edd7cfdb8"
     }
    },
    "7332e7d3d0464756a8090236cff3eaa0": {
     "model_module": "@jupyter-widgets/controls",
     "model_module_version": "1.5.0",
     "model_name": "HBoxModel",
     "state": {
      "_dom_classes": [],
      "_model_module": "@jupyter-widgets/controls",
      "_model_module_version": "1.5.0",
      "_model_name": "HBoxModel",
      "_view_count": null,
      "_view_module": "@jupyter-widgets/controls",
      "_view_module_version": "1.5.0",
      "_view_name": "HBoxView",
      "box_style": "",
      "children": [
       "IPY_MODEL_061f569eb412404d82d29a5d4cf97cd6",
       "IPY_MODEL_8ba4d2a3f7dc40d693a81e295d000182"
      ],
      "layout": "IPY_MODEL_5f7807a08a544a3baaa44e0a2e09656d"
     }
    },
    "83ef1e25c7da4d59b36d84bafa5101be": {
     "model_module": "@jupyter-widgets/base",
     "model_module_version": "1.2.0",
     "model_name": "LayoutModel",
     "state": {
      "_model_module": "@jupyter-widgets/base",
      "_model_module_version": "1.2.0",
      "_model_name": "LayoutModel",
      "_view_count": null,
      "_view_module": "@jupyter-widgets/base",
      "_view_module_version": "1.2.0",
      "_view_name": "LayoutView",
      "align_content": null,
      "align_items": null,
      "align_self": null,
      "border": null,
      "bottom": null,
      "display": null,
      "flex": null,
      "flex_flow": null,
      "grid_area": null,
      "grid_auto_columns": null,
      "grid_auto_flow": null,
      "grid_auto_rows": null,
      "grid_column": null,
      "grid_gap": null,
      "grid_row": null,
      "grid_template_areas": null,
      "grid_template_columns": null,
      "grid_template_rows": null,
      "height": null,
      "justify_content": null,
      "justify_items": null,
      "left": null,
      "margin": null,
      "max_height": null,
      "max_width": null,
      "min_height": null,
      "min_width": null,
      "object_fit": null,
      "object_position": null,
      "order": null,
      "overflow": null,
      "overflow_x": null,
      "overflow_y": null,
      "padding": null,
      "right": null,
      "top": null,
      "visibility": null,
      "width": null
     }
    },
    "8ba4d2a3f7dc40d693a81e295d000182": {
     "model_module": "@jupyter-widgets/controls",
     "model_module_version": "1.5.0",
     "model_name": "HTMLModel",
     "state": {
      "_dom_classes": [],
      "_model_module": "@jupyter-widgets/controls",
      "_model_module_version": "1.5.0",
      "_model_name": "HTMLModel",
      "_view_count": null,
      "_view_module": "@jupyter-widgets/controls",
      "_view_module_version": "1.5.0",
      "_view_name": "HTMLView",
      "description": "",
      "description_tooltip": null,
      "layout": "IPY_MODEL_e7a8ee0f1cd2427aae6e45ecd144f369",
      "placeholder": "​",
      "style": "IPY_MODEL_eddae955de054074afee6ed026efe6d6",
      "value": " 17665/17665 [02:57&lt;00:00, 99.65it/s]"
     }
    },
    "90261d2e637c4654945164d5e4021781": {
     "model_module": "@jupyter-widgets/controls",
     "model_module_version": "1.5.0",
     "model_name": "FloatProgressModel",
     "state": {
      "_dom_classes": [],
      "_model_module": "@jupyter-widgets/controls",
      "_model_module_version": "1.5.0",
      "_model_name": "FloatProgressModel",
      "_view_count": null,
      "_view_module": "@jupyter-widgets/controls",
      "_view_module_version": "1.5.0",
      "_view_name": "ProgressView",
      "bar_style": "success",
      "description": "100%",
      "description_tooltip": null,
      "layout": "IPY_MODEL_36d6bbc404f24c309f1f36c54edac6e5",
      "max": 17665,
      "min": 0,
      "orientation": "horizontal",
      "style": "IPY_MODEL_253070ebf7654006a23f3c346889abe8",
      "value": 17665
     }
    },
    "9a6c636fb938467cb30f2528657aeda1": {
     "model_module": "@jupyter-widgets/base",
     "model_module_version": "1.2.0",
     "model_name": "LayoutModel",
     "state": {
      "_model_module": "@jupyter-widgets/base",
      "_model_module_version": "1.2.0",
      "_model_name": "LayoutModel",
      "_view_count": null,
      "_view_module": "@jupyter-widgets/base",
      "_view_module_version": "1.2.0",
      "_view_name": "LayoutView",
      "align_content": null,
      "align_items": null,
      "align_self": null,
      "border": null,
      "bottom": null,
      "display": null,
      "flex": null,
      "flex_flow": null,
      "grid_area": null,
      "grid_auto_columns": null,
      "grid_auto_flow": null,
      "grid_auto_rows": null,
      "grid_column": null,
      "grid_gap": null,
      "grid_row": null,
      "grid_template_areas": null,
      "grid_template_columns": null,
      "grid_template_rows": null,
      "height": null,
      "justify_content": null,
      "justify_items": null,
      "left": null,
      "margin": null,
      "max_height": null,
      "max_width": null,
      "min_height": null,
      "min_width": null,
      "object_fit": null,
      "object_position": null,
      "order": null,
      "overflow": null,
      "overflow_x": null,
      "overflow_y": null,
      "padding": null,
      "right": null,
      "top": null,
      "visibility": null,
      "width": null
     }
    },
    "a4a83daa0e9e40bda27234fcf1cb8c2c": {
     "model_module": "@jupyter-widgets/base",
     "model_module_version": "1.2.0",
     "model_name": "LayoutModel",
     "state": {
      "_model_module": "@jupyter-widgets/base",
      "_model_module_version": "1.2.0",
      "_model_name": "LayoutModel",
      "_view_count": null,
      "_view_module": "@jupyter-widgets/base",
      "_view_module_version": "1.2.0",
      "_view_name": "LayoutView",
      "align_content": null,
      "align_items": null,
      "align_self": null,
      "border": null,
      "bottom": null,
      "display": null,
      "flex": null,
      "flex_flow": null,
      "grid_area": null,
      "grid_auto_columns": null,
      "grid_auto_flow": null,
      "grid_auto_rows": null,
      "grid_column": null,
      "grid_gap": null,
      "grid_row": null,
      "grid_template_areas": null,
      "grid_template_columns": null,
      "grid_template_rows": null,
      "height": null,
      "justify_content": null,
      "justify_items": null,
      "left": null,
      "margin": null,
      "max_height": null,
      "max_width": null,
      "min_height": null,
      "min_width": null,
      "object_fit": null,
      "object_position": null,
      "order": null,
      "overflow": null,
      "overflow_x": null,
      "overflow_y": null,
      "padding": null,
      "right": null,
      "top": null,
      "visibility": null,
      "width": null
     }
    },
    "a7131a3b317f4f02bf2f09adea4701c8": {
     "model_module": "@jupyter-widgets/controls",
     "model_module_version": "1.5.0",
     "model_name": "HBoxModel",
     "state": {
      "_dom_classes": [],
      "_model_module": "@jupyter-widgets/controls",
      "_model_module_version": "1.5.0",
      "_model_name": "HBoxModel",
      "_view_count": null,
      "_view_module": "@jupyter-widgets/controls",
      "_view_module_version": "1.5.0",
      "_view_name": "HBoxView",
      "box_style": "",
      "children": [
       "IPY_MODEL_2ef2907e31ab40dea398efd712f38e9d",
       "IPY_MODEL_0040dbe8945247a783040320ae41823f"
      ],
      "layout": "IPY_MODEL_54e48affa5d8451c800c81db6100b314"
     }
    },
    "ae6c8a176f0a4e718c8269dcd7018079": {
     "model_module": "@jupyter-widgets/base",
     "model_module_version": "1.2.0",
     "model_name": "LayoutModel",
     "state": {
      "_model_module": "@jupyter-widgets/base",
      "_model_module_version": "1.2.0",
      "_model_name": "LayoutModel",
      "_view_count": null,
      "_view_module": "@jupyter-widgets/base",
      "_view_module_version": "1.2.0",
      "_view_name": "LayoutView",
      "align_content": null,
      "align_items": null,
      "align_self": null,
      "border": null,
      "bottom": null,
      "display": null,
      "flex": null,
      "flex_flow": null,
      "grid_area": null,
      "grid_auto_columns": null,
      "grid_auto_flow": null,
      "grid_auto_rows": null,
      "grid_column": null,
      "grid_gap": null,
      "grid_row": null,
      "grid_template_areas": null,
      "grid_template_columns": null,
      "grid_template_rows": null,
      "height": null,
      "justify_content": null,
      "justify_items": null,
      "left": null,
      "margin": null,
      "max_height": null,
      "max_width": null,
      "min_height": null,
      "min_width": null,
      "object_fit": null,
      "object_position": null,
      "order": null,
      "overflow": null,
      "overflow_x": null,
      "overflow_y": null,
      "padding": null,
      "right": null,
      "top": null,
      "visibility": null,
      "width": null
     }
    },
    "b9bd31962be54db3a885531c95ac2726": {
     "model_module": "@jupyter-widgets/controls",
     "model_module_version": "1.5.0",
     "model_name": "HBoxModel",
     "state": {
      "_dom_classes": [],
      "_model_module": "@jupyter-widgets/controls",
      "_model_module_version": "1.5.0",
      "_model_name": "HBoxModel",
      "_view_count": null,
      "_view_module": "@jupyter-widgets/controls",
      "_view_module_version": "1.5.0",
      "_view_name": "HBoxView",
      "box_style": "",
      "children": [
       "IPY_MODEL_5bbbc5fd7d764caaafde87bc39d68ad4",
       "IPY_MODEL_59774b05da9c400a86c40381ae1356cc"
      ],
      "layout": "IPY_MODEL_a4a83daa0e9e40bda27234fcf1cb8c2c"
     }
    },
    "bd96ead711fd494991a53ac6da2cc9e0": {
     "model_module": "@jupyter-widgets/base",
     "model_module_version": "1.2.0",
     "model_name": "LayoutModel",
     "state": {
      "_model_module": "@jupyter-widgets/base",
      "_model_module_version": "1.2.0",
      "_model_name": "LayoutModel",
      "_view_count": null,
      "_view_module": "@jupyter-widgets/base",
      "_view_module_version": "1.2.0",
      "_view_name": "LayoutView",
      "align_content": null,
      "align_items": null,
      "align_self": null,
      "border": null,
      "bottom": null,
      "display": null,
      "flex": null,
      "flex_flow": null,
      "grid_area": null,
      "grid_auto_columns": null,
      "grid_auto_flow": null,
      "grid_auto_rows": null,
      "grid_column": null,
      "grid_gap": null,
      "grid_row": null,
      "grid_template_areas": null,
      "grid_template_columns": null,
      "grid_template_rows": null,
      "height": null,
      "justify_content": null,
      "justify_items": null,
      "left": null,
      "margin": null,
      "max_height": null,
      "max_width": null,
      "min_height": null,
      "min_width": null,
      "object_fit": null,
      "object_position": null,
      "order": null,
      "overflow": null,
      "overflow_x": null,
      "overflow_y": null,
      "padding": null,
      "right": null,
      "top": null,
      "visibility": null,
      "width": null
     }
    },
    "c21ca9276a9c4e1eb2bc3104bec43cde": {
     "model_module": "@jupyter-widgets/controls",
     "model_module_version": "1.5.0",
     "model_name": "DescriptionStyleModel",
     "state": {
      "_model_module": "@jupyter-widgets/controls",
      "_model_module_version": "1.5.0",
      "_model_name": "DescriptionStyleModel",
      "_view_count": null,
      "_view_module": "@jupyter-widgets/base",
      "_view_module_version": "1.2.0",
      "_view_name": "StyleView",
      "description_width": ""
     }
    },
    "c3753b7d1a1d4d78a1a37b6df70c2df5": {
     "model_module": "@jupyter-widgets/controls",
     "model_module_version": "1.5.0",
     "model_name": "ProgressStyleModel",
     "state": {
      "_model_module": "@jupyter-widgets/controls",
      "_model_module_version": "1.5.0",
      "_model_name": "ProgressStyleModel",
      "_view_count": null,
      "_view_module": "@jupyter-widgets/base",
      "_view_module_version": "1.2.0",
      "_view_name": "StyleView",
      "bar_color": null,
      "description_width": "initial"
     }
    },
    "ccc84aa53d7f4b5494fa4b9746343150": {
     "model_module": "@jupyter-widgets/controls",
     "model_module_version": "1.5.0",
     "model_name": "DescriptionStyleModel",
     "state": {
      "_model_module": "@jupyter-widgets/controls",
      "_model_module_version": "1.5.0",
      "_model_name": "DescriptionStyleModel",
      "_view_count": null,
      "_view_module": "@jupyter-widgets/base",
      "_view_module_version": "1.2.0",
      "_view_name": "StyleView",
      "description_width": ""
     }
    },
    "d2a2b5fbcdc740bb964261bd6338cda8": {
     "model_module": "@jupyter-widgets/controls",
     "model_module_version": "1.5.0",
     "model_name": "ProgressStyleModel",
     "state": {
      "_model_module": "@jupyter-widgets/controls",
      "_model_module_version": "1.5.0",
      "_model_name": "ProgressStyleModel",
      "_view_count": null,
      "_view_module": "@jupyter-widgets/base",
      "_view_module_version": "1.2.0",
      "_view_name": "StyleView",
      "bar_color": null,
      "description_width": "initial"
     }
    },
    "e7a8ee0f1cd2427aae6e45ecd144f369": {
     "model_module": "@jupyter-widgets/base",
     "model_module_version": "1.2.0",
     "model_name": "LayoutModel",
     "state": {
      "_model_module": "@jupyter-widgets/base",
      "_model_module_version": "1.2.0",
      "_model_name": "LayoutModel",
      "_view_count": null,
      "_view_module": "@jupyter-widgets/base",
      "_view_module_version": "1.2.0",
      "_view_name": "LayoutView",
      "align_content": null,
      "align_items": null,
      "align_self": null,
      "border": null,
      "bottom": null,
      "display": null,
      "flex": null,
      "flex_flow": null,
      "grid_area": null,
      "grid_auto_columns": null,
      "grid_auto_flow": null,
      "grid_auto_rows": null,
      "grid_column": null,
      "grid_gap": null,
      "grid_row": null,
      "grid_template_areas": null,
      "grid_template_columns": null,
      "grid_template_rows": null,
      "height": null,
      "justify_content": null,
      "justify_items": null,
      "left": null,
      "margin": null,
      "max_height": null,
      "max_width": null,
      "min_height": null,
      "min_width": null,
      "object_fit": null,
      "object_position": null,
      "order": null,
      "overflow": null,
      "overflow_x": null,
      "overflow_y": null,
      "padding": null,
      "right": null,
      "top": null,
      "visibility": null,
      "width": null
     }
    },
    "eddae955de054074afee6ed026efe6d6": {
     "model_module": "@jupyter-widgets/controls",
     "model_module_version": "1.5.0",
     "model_name": "DescriptionStyleModel",
     "state": {
      "_model_module": "@jupyter-widgets/controls",
      "_model_module_version": "1.5.0",
      "_model_name": "DescriptionStyleModel",
      "_view_count": null,
      "_view_module": "@jupyter-widgets/base",
      "_view_module_version": "1.2.0",
      "_view_name": "StyleView",
      "description_width": ""
     }
    },
    "f1ec9532783a4688934c8c1edd7cfdb8": {
     "model_module": "@jupyter-widgets/base",
     "model_module_version": "1.2.0",
     "model_name": "LayoutModel",
     "state": {
      "_model_module": "@jupyter-widgets/base",
      "_model_module_version": "1.2.0",
      "_model_name": "LayoutModel",
      "_view_count": null,
      "_view_module": "@jupyter-widgets/base",
      "_view_module_version": "1.2.0",
      "_view_name": "LayoutView",
      "align_content": null,
      "align_items": null,
      "align_self": null,
      "border": null,
      "bottom": null,
      "display": null,
      "flex": null,
      "flex_flow": null,
      "grid_area": null,
      "grid_auto_columns": null,
      "grid_auto_flow": null,
      "grid_auto_rows": null,
      "grid_column": null,
      "grid_gap": null,
      "grid_row": null,
      "grid_template_areas": null,
      "grid_template_columns": null,
      "grid_template_rows": null,
      "height": null,
      "justify_content": null,
      "justify_items": null,
      "left": null,
      "margin": null,
      "max_height": null,
      "max_width": null,
      "min_height": null,
      "min_width": null,
      "object_fit": null,
      "object_position": null,
      "order": null,
      "overflow": null,
      "overflow_x": null,
      "overflow_y": null,
      "padding": null,
      "right": null,
      "top": null,
      "visibility": null,
      "width": null
     }
    }
   }
  }
 },
 "nbformat": 4,
 "nbformat_minor": 5
}
